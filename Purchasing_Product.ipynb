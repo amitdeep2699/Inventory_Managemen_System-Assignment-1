{
 "cells": [
  {
   "cell_type": "code",
   "execution_count": null,
   "id": "cd3eeea2",
   "metadata": {},
   "outputs": [
    {
     "name": "stdout",
     "output_type": "stream",
     "text": [
      "Press: 0  For Showing All Product List.\n",
      "\n",
      "Press: 1 For Purchase.\n",
      "\n",
      "Press: 2 For Check bill through bill_no\n",
      "\n",
      "Press: 3 for Delete.\n",
      "\n",
      "Press: 4  For Exit.\n",
      "\n",
      "3\n",
      "Enter Bil No : 917\n",
      "Bill No 917 is Not pressent\n",
      "\n"
     ]
    }
   ],
   "source": [
    "import json\n",
    "import random\n",
    "from datetime import datetime\n",
    "\n",
    "Entry=True\n",
    "while(Entry):\n",
    "    fd=open('prodlist.json','r')\n",
    "    r=fd.read()\n",
    "    fd.close()\n",
    "    record=json.loads(r)\n",
    "\n",
    "    fd1=open('sales.json','r')\n",
    "    rs=fd1.read()\n",
    "    fd1.close()\n",
    "    sales_record=json.loads(rs)\n",
    "    \n",
    "    print(\"Press: 0  For Showing All Product List.\\n\")\n",
    "    print(\"Press: 1 For Purchase.\\n\")\n",
    "    print(\"Press: 2 For Check bill through bill_no\\n\")\n",
    "    print(\"Press: 3 for  Delete Bill.\\n\")\n",
    "    print(\"Press: 4  For Exit.\\n\")\n",
    "    x=int(input(\"\"))\n",
    "    if(x==0):\n",
    "        print(\"******\"*15)\n",
    "        print(\"\\tProduct_id\\tProduct_name\\tProduct_Quantity\\tPrice\")\n",
    "        print(\"******\"*15)\n",
    "        for i in record.keys():\n",
    "            print(f\"\\t{i}\\t\\t{record[i]['product_name']}\\t\\t{record[i]['product_quantity']}\\t\\t{record[i]['product_price']}\\n\")\n",
    "   \n",
    "    elif(x==1):\n",
    "        a=True\n",
    "        while(a):\n",
    "            present=0\n",
    "            prod_id  = str(input(\"Enter the product_Id: \"))\n",
    "            for i in record.keys():\n",
    "                if(prod_id==i):\n",
    "                    quant_check=True\n",
    "                    while(quant_check):\n",
    "                        prod_quant = int(input(\"Enter the quantity: \"))\n",
    "                        if(record[i]['product_quantity']>=prod_quant):\n",
    "                            present=1\n",
    "                            quant_check=False\n",
    "                            #bill id\n",
    "                            bill_id_check=True\n",
    "                            B_id=1000\n",
    "                            while(bill_id_check):\n",
    "                                n=random.randint(100,999)\n",
    "                                Bill_found=False\n",
    "                                for j in sales_record.keys():\n",
    "                                    if(j==n):\n",
    "                                        Bill_found=True\n",
    "                                if(not Bill_found):\n",
    "                                    B_id=n\n",
    "                                    bill_id_check=False\n",
    "                            #date\n",
    "                            today = datetime.now()\n",
    "                            date_time=(str(today)).split(\" \")\n",
    "                            #bill genrate  record[i]['product_name']\n",
    "                            print(\"----\"*15)\n",
    "                            print(\"\\t\\t\\t-:Your Bill:-\")\n",
    "                            print(\"----\"*15)\n",
    "                            print(f\"  Bill No.:- {n}\\t\\t\\t\\tDate:-{date_time[0]}\")\n",
    "                            print(\"----\"*15)\n",
    "                            print(f\"\\n\\tProduct Id :- \\t\\t{prod_id}\")\n",
    "                            print(f\"\\tProduct Name :- \\t{record[prod_id]['product_name']}\")\n",
    "                            print(f\"\\tselect Quantity :- \\t{prod_quant}\")\n",
    "                            print(f\"\\tPrice :- \\t\\t{record[prod_id]['product_price']}\")\n",
    "                            print(\"----\"*15)\n",
    "                            print(f\"\\tTotal Amount :- \\t{record[prod_id]['product_price']*prod_quant}\")\n",
    "                            print(\"----\"*15)\n",
    "                            \n",
    "                            fd=open('sales.json','w')\n",
    "                            sales_record[B_id]={'date' : date_time[0], 'Time' : date_time[1], 'Bill_No' : B_id,'Product_Id':prod_id,'Product_name':record[prod_id]['product_name'],'Product_quantity':prod_quant,'Product_price':record[prod_id]['product_price'],'Total_Amount':record[prod_id]['product_price']*prod_quant}\n",
    "                            fd.write(json.dumps(sales_record))\n",
    "                            fd.close()\n",
    "                            \n",
    "                            fd = open(\"prodlist.json\",'w')\n",
    "                            record[prod_id]['product_quantity']=record[prod_id]['product_quantity']-int(prod_quant)\n",
    "                            fd.write(json.dumps(record))\n",
    "                            fd.close()\n",
    "                            \n",
    "                            a=False\n",
    "                        else:\n",
    "                            print(f\"Sorry only {record[i]['product_quantity']} quantiy are present \")\n",
    "                            z=int(input(\"Press 1 for re-enter Quantity\\nPress 2 for exit\\n\"))\n",
    "                            if(z==2):\n",
    "                                quant_check=False\n",
    "                                present=1\n",
    "                                a=False\n",
    "                            else:\n",
    "                                continue;\n",
    "            if(present==0):\n",
    "                print(f\"product Id {prod_id} is Not pressent\\n\")\n",
    "                print(\"Please Re-enter Product Id:\")\n",
    "    elif(x==2):\n",
    "        bill_no=input(\"Enter bill no. :- \\n\")\n",
    "        if(bill_no in sales_record.keys()):\n",
    "            print(\"----\"*15)\n",
    "            print(\"\\t\\t\\t-:Your Bill:-\")\n",
    "            print(\"----\"*15)\n",
    "            print(f\"  Bill No.:- {bill_no}\\t\\t\\t\\tDate:-{sales_record[bill_no]['date']}\")\n",
    "            print(\"----\"*15)\n",
    "            print(f\"  Time:- {sales_record[bill_no]['Time']}\")\n",
    "            print(f\"\\n\\tProduct Id :- \\t\\t{sales_record[bill_no]['Product_Id']}\")\n",
    "            print(f\"\\tProduct Name :- \\t{sales_record[bill_no]['Product_name']}\")\n",
    "            print(f\"\\tselect Quantity :- \\t{sales_record[bill_no]['Product_quantity']}\")\n",
    "            print(f\"\\tPrice :- \\t\\t{sales_record[bill_no]['Product_price']}\")\n",
    "            print(\"----\"*15)\n",
    "            print(f\"\\tTotal Amount :- \\t{sales_record[bill_no]['Total_Amount']}\")\n",
    "            print(\"----\"*15)\n",
    "    elif(x==3):\n",
    "        y=True\n",
    "        while(y):\n",
    "            found=False\n",
    "            Bill_No=input(\"Enter Bil No : \")\n",
    "            if(Bill_No in sales_record.keys()):\n",
    "                found=True\n",
    "                y=False\n",
    "            if(found):\n",
    "                del sales_record[Bill_No]\n",
    "                js = json.dumps(sales_record)\n",
    "                fd = open(\"sales.json\",'w')\n",
    "                fd.write(js)\n",
    "                fd.close()\n",
    "                print(\"******Delete Success Fully******\")\n",
    "                \n",
    "                continue;\n",
    "            else:\n",
    "                print(f\"Bill No {Bill_No} is Not pressent\\n\")\n",
    "                w=int(input(\"Press 1 for re-enter Bill No\\nPress 2 for exit\\n\"))\n",
    "                if(w==2):\n",
    "                    y=False\n",
    "                else:\n",
    "                    print(\"Please Re-enter Bill No :\")\n",
    "    elif(x==4):\n",
    "        print(\"\\t\\t\\t\\t###### Thank Youuu ######\")\n",
    "        print(\"\\t\\t\\t\\t###### Have a Nice day ######\")\n",
    "        Entry=False\n",
    "    else:\n",
    "        print(\"Please Enter a valid number!!!!!\\n\")\n",
    "  "
   ]
  },
  {
   "cell_type": "code",
   "execution_count": 88,
   "id": "49bc467d",
   "metadata": {},
   "outputs": [
    {
     "name": "stdout",
     "output_type": "stream",
     "text": [
      "random = 100\n",
      "random = 100\n",
      "random = 101\n",
      "Bill = 101\n"
     ]
    }
   ],
   "source": [
    "import random\n",
    "l=[100,102]\n",
    "bill_id_check=True\n",
    "B_id=1000\n",
    "while(bill_id_check):\n",
    "    n=random.randint(100,101)\n",
    "    Bill_found=False\n",
    "    print(\"random =\",n)\n",
    "    for j in l:\n",
    "        if(j==n):\n",
    "            Bill_found=True\n",
    "            break;\n",
    "    if(not Bill_found):\n",
    "        B_id=n\n",
    "        bill_id_check=False\n",
    "print(\"Bill =\",B_id)"
   ]
  },
  {
   "cell_type": "code",
   "execution_count": 29,
   "id": "633df190",
   "metadata": {},
   "outputs": [
    {
     "name": "stdout",
     "output_type": "stream",
     "text": [
      "144\n"
     ]
    }
   ],
   "source": [
    "import random\n",
    "n=random.randint(100,201)\n",
    "print(n)"
   ]
  },
  {
   "cell_type": "code",
   "execution_count": 21,
   "id": "083b6968",
   "metadata": {},
   "outputs": [
    {
     "name": "stdout",
     "output_type": "stream",
     "text": [
      "Date : 2021-09-03 \t Time : 23:09:14.666137\n"
     ]
    }
   ],
   "source": [
    "from datetime import datetime\n",
    "today = datetime.now()\n",
    "date_time=(str(today)).split(\" \")\n",
    "print(f\"Date : {date_time[0]} \\t Time : {date_time[1]}\")"
   ]
  },
  {
   "cell_type": "code",
   "execution_count": 1,
   "id": "6358493f",
   "metadata": {},
   "outputs": [],
   "source": [
    "import json\n",
    "fd1=open('sales.json','w')\n",
    "data={'1006':{'First Entry' : 'run time'}}\n",
    "fd1.write(json.dumps(data))\n",
    "fd1.close()"
   ]
  },
  {
   "cell_type": "code",
   "execution_count": 3,
   "id": "615f22a4",
   "metadata": {},
   "outputs": [
    {
     "name": "stdout",
     "output_type": "stream",
     "text": [
      "{'1005': {'First Entry': 'run time'}}\n"
     ]
    },
    {
     "data": {
      "text/plain": [
       "dict"
      ]
     },
     "execution_count": 3,
     "metadata": {},
     "output_type": "execute_result"
    }
   ],
   "source": [
    "import json\n",
    "fd=open('sales.json','r')\n",
    "r=fd.read()\n",
    "fd.close()\n",
    "record=json.loads(r)\n",
    "print(record)\n",
    "type(record)\n",
    "record[]"
   ]
  },
  {
   "cell_type": "code",
   "execution_count": null,
   "id": "d4b94b2b",
   "metadata": {},
   "outputs": [],
   "source": []
  }
 ],
 "metadata": {
  "kernelspec": {
   "display_name": "Python 3",
   "language": "python",
   "name": "python3"
  }
 },
 "nbformat": 4,
 "nbformat_minor": 5
}
